{
 "cells": [
  {
   "cell_type": "code",
   "execution_count": 1,
   "id": "f32d8bdb",
   "metadata": {
    "_cell_guid": "b1076dfc-b9ad-4769-8c92-a6c4dae69d19",
    "_uuid": "8f2839f25d086af736a60e9eeb907d3b93b6e0e5",
    "execution": {
     "iopub.execute_input": "2021-12-30T16:59:02.082531Z",
     "iopub.status.busy": "2021-12-30T16:59:02.081015Z",
     "iopub.status.idle": "2021-12-30T16:59:07.059938Z",
     "shell.execute_reply": "2021-12-30T16:59:07.059220Z",
     "shell.execute_reply.started": "2021-12-30T16:42:32.101320Z"
    },
    "papermill": {
     "duration": 5.001313,
     "end_time": "2021-12-30T16:59:07.060124",
     "exception": false,
     "start_time": "2021-12-30T16:59:02.058811",
     "status": "completed"
    },
    "tags": []
   },
   "outputs": [
    {
     "name": "stdout",
     "output_type": "stream",
     "text": [
      "/kaggle/input/dogs-vs-cats/test1.zip\n",
      "/kaggle/input/dogs-vs-cats/train.zip\n",
      "/kaggle/input/dogs-vs-cats/sampleSubmission.csv\n"
     ]
    }
   ],
   "source": [
    "import os\n",
    "import shutil\n",
    "\n",
    "import numpy as np\n",
    "import matplotlib.pyplot as plt\n",
    "import zipfile\n",
    "\n",
    "from tensorflow import keras\n",
    "from tensorflow.keras import layers\n",
    "from tensorflow.keras import models\n",
    "from tensorflow.keras import optimizers\n",
    "\n",
    "from tensorflow.keras.preprocessing.image import ImageDataGenerator\n",
    "for dirname, _, filenames in os.walk('/kaggle/input'):\n",
    "    for filename in filenames:\n",
    "        print(os.path.join(dirname, filename))\n",
    "\n",
    "# You can write up to 20GB to the current directory (/kaggle/working/) that gets preserved as output when you create a version using \"Save & Run All\" \n",
    "# You can also write temporary files to /kaggle/temp/, but they won't be saved outside of the current session"
   ]
  },
  {
   "cell_type": "code",
   "execution_count": 2,
   "id": "913dbe34",
   "metadata": {
    "execution": {
     "iopub.execute_input": "2021-12-30T16:59:07.099721Z",
     "iopub.status.busy": "2021-12-30T16:59:07.099174Z",
     "iopub.status.idle": "2021-12-30T16:59:19.492816Z",
     "shell.execute_reply": "2021-12-30T16:59:19.492250Z",
     "shell.execute_reply.started": "2021-12-30T16:42:37.008786Z"
    },
    "papermill": {
     "duration": 12.414107,
     "end_time": "2021-12-30T16:59:19.492975",
     "exception": false,
     "start_time": "2021-12-30T16:59:07.078868",
     "status": "completed"
    },
    "tags": []
   },
   "outputs": [],
   "source": [
    "with zipfile.ZipFile('/kaggle/input/dogs-vs-cats/train.zip', 'r') as zip_ref:\n",
    "    zip_ref.extractall('/kaggle/working/dogs-vs-cats')"
   ]
  },
  {
   "cell_type": "code",
   "execution_count": 3,
   "id": "81c18e42",
   "metadata": {
    "execution": {
     "iopub.execute_input": "2021-12-30T16:59:19.535379Z",
     "iopub.status.busy": "2021-12-30T16:59:19.534745Z",
     "iopub.status.idle": "2021-12-30T16:59:19.538733Z",
     "shell.execute_reply": "2021-12-30T16:59:19.538038Z",
     "shell.execute_reply.started": "2021-12-30T16:42:54.929809Z"
    },
    "papermill": {
     "duration": 0.027276,
     "end_time": "2021-12-30T16:59:19.538879",
     "exception": false,
     "start_time": "2021-12-30T16:59:19.511603",
     "status": "completed"
    },
    "tags": []
   },
   "outputs": [],
   "source": [
    "os.mkdir('/kaggle/working/dogs-vs-cats/train/cats')\n",
    "os.mkdir('/kaggle/working/dogs-vs-cats/train/dogs')\n",
    "\n",
    "os.mkdir('/kaggle/working/dogs-vs-cats/validation')\n",
    "os.mkdir('/kaggle/working/dogs-vs-cats/validation/cats')\n",
    "os.mkdir('/kaggle/working/dogs-vs-cats/validation/dogs')"
   ]
  },
  {
   "cell_type": "code",
   "execution_count": 4,
   "id": "57836c8a",
   "metadata": {
    "execution": {
     "iopub.execute_input": "2021-12-30T16:59:19.586040Z",
     "iopub.status.busy": "2021-12-30T16:59:19.585243Z",
     "iopub.status.idle": "2021-12-30T16:59:19.944686Z",
     "shell.execute_reply": "2021-12-30T16:59:19.943662Z",
     "shell.execute_reply.started": "2021-12-30T16:42:54.942520Z"
    },
    "papermill": {
     "duration": 0.387813,
     "end_time": "2021-12-30T16:59:19.944847",
     "exception": false,
     "start_time": "2021-12-30T16:59:19.557034",
     "status": "completed"
    },
    "tags": []
   },
   "outputs": [],
   "source": [
    "fnames = ['cat.{}.jpg'.format(i) for i in range(10000)]\n",
    "for fname in fnames:\n",
    "    src = os.path.join('/kaggle/working/dogs-vs-cats/train', fname)\n",
    "    dst = os.path.join('/kaggle/working/dogs-vs-cats/train/cats', fname)\n",
    "    shutil.move(src, dst)\n",
    "\n",
    "fnames = ['cat.{}.jpg'.format(i) for i in range(10000, 12500)]\n",
    "for fname in fnames:\n",
    "    src = os.path.join('/kaggle/working/dogs-vs-cats/train', fname)\n",
    "    dst = os.path.join('/kaggle/working/dogs-vs-cats/validation/cats', fname)\n",
    "    shutil.move(src, dst)"
   ]
  },
  {
   "cell_type": "code",
   "execution_count": 5,
   "id": "d8b70ed0",
   "metadata": {
    "execution": {
     "iopub.execute_input": "2021-12-30T16:59:19.991429Z",
     "iopub.status.busy": "2021-12-30T16:59:19.990643Z",
     "iopub.status.idle": "2021-12-30T16:59:20.319867Z",
     "shell.execute_reply": "2021-12-30T16:59:20.318998Z",
     "shell.execute_reply.started": "2021-12-30T16:42:55.318273Z"
    },
    "papermill": {
     "duration": 0.355705,
     "end_time": "2021-12-30T16:59:20.320024",
     "exception": false,
     "start_time": "2021-12-30T16:59:19.964319",
     "status": "completed"
    },
    "tags": []
   },
   "outputs": [],
   "source": [
    "fnames = ['dog.{}.jpg'.format(i) for i in range(10000)]\n",
    "for fname in fnames:\n",
    "    src = os.path.join('/kaggle/working/dogs-vs-cats/train', fname)\n",
    "    dst = os.path.join('/kaggle/working/dogs-vs-cats/train/dogs', fname)\n",
    "    shutil.move(src, dst)\n",
    "       \n",
    "fnames = ['dog.{}.jpg'.format(i) for i in range(10000, 12500)]\n",
    "for fname in fnames:\n",
    "    src = os.path.join('/kaggle/working/dogs-vs-cats/train', fname)\n",
    "    dst = os.path.join('/kaggle/working/dogs-vs-cats/validation/dogs', fname)\n",
    "    shutil.move(src, dst)"
   ]
  },
  {
   "cell_type": "code",
   "execution_count": 6,
   "id": "7ede9c3e",
   "metadata": {
    "execution": {
     "iopub.execute_input": "2021-12-30T16:59:20.365135Z",
     "iopub.status.busy": "2021-12-30T16:59:20.364375Z",
     "iopub.status.idle": "2021-12-30T16:59:22.605016Z",
     "shell.execute_reply": "2021-12-30T16:59:22.605513Z",
     "shell.execute_reply.started": "2021-12-30T16:42:55.654781Z"
    },
    "papermill": {
     "duration": 2.265831,
     "end_time": "2021-12-30T16:59:22.605675",
     "exception": false,
     "start_time": "2021-12-30T16:59:20.339844",
     "status": "completed"
    },
    "tags": []
   },
   "outputs": [
    {
     "name": "stderr",
     "output_type": "stream",
     "text": [
      "2021-12-30 16:59:20.433569: I tensorflow/stream_executor/cuda/cuda_gpu_executor.cc:937] successful NUMA node read from SysFS had negative value (-1), but there must be at least one NUMA node, so returning NUMA node zero\n",
      "2021-12-30 16:59:20.521574: I tensorflow/stream_executor/cuda/cuda_gpu_executor.cc:937] successful NUMA node read from SysFS had negative value (-1), but there must be at least one NUMA node, so returning NUMA node zero\n",
      "2021-12-30 16:59:20.522215: I tensorflow/stream_executor/cuda/cuda_gpu_executor.cc:937] successful NUMA node read from SysFS had negative value (-1), but there must be at least one NUMA node, so returning NUMA node zero\n",
      "2021-12-30 16:59:20.523259: I tensorflow/core/platform/cpu_feature_guard.cc:142] This TensorFlow binary is optimized with oneAPI Deep Neural Network Library (oneDNN) to use the following CPU instructions in performance-critical operations:  AVX2 AVX512F FMA\n",
      "To enable them in other operations, rebuild TensorFlow with the appropriate compiler flags.\n",
      "2021-12-30 16:59:20.524196: I tensorflow/stream_executor/cuda/cuda_gpu_executor.cc:937] successful NUMA node read from SysFS had negative value (-1), but there must be at least one NUMA node, so returning NUMA node zero\n",
      "2021-12-30 16:59:20.524901: I tensorflow/stream_executor/cuda/cuda_gpu_executor.cc:937] successful NUMA node read from SysFS had negative value (-1), but there must be at least one NUMA node, so returning NUMA node zero\n",
      "2021-12-30 16:59:20.525530: I tensorflow/stream_executor/cuda/cuda_gpu_executor.cc:937] successful NUMA node read from SysFS had negative value (-1), but there must be at least one NUMA node, so returning NUMA node zero\n",
      "2021-12-30 16:59:22.240302: I tensorflow/stream_executor/cuda/cuda_gpu_executor.cc:937] successful NUMA node read from SysFS had negative value (-1), but there must be at least one NUMA node, so returning NUMA node zero\n",
      "2021-12-30 16:59:22.241134: I tensorflow/stream_executor/cuda/cuda_gpu_executor.cc:937] successful NUMA node read from SysFS had negative value (-1), but there must be at least one NUMA node, so returning NUMA node zero\n",
      "2021-12-30 16:59:22.241817: I tensorflow/stream_executor/cuda/cuda_gpu_executor.cc:937] successful NUMA node read from SysFS had negative value (-1), but there must be at least one NUMA node, so returning NUMA node zero\n",
      "2021-12-30 16:59:22.242381: I tensorflow/core/common_runtime/gpu/gpu_device.cc:1510] Created device /job:localhost/replica:0/task:0/device:GPU:0 with 15403 MB memory:  -> device: 0, name: Tesla P100-PCIE-16GB, pci bus id: 0000:00:04.0, compute capability: 6.0\n"
     ]
    }
   ],
   "source": [
    "model = models.Sequential()\n",
    "\n",
    "model.add(layers.Conv2D(32, (3, 3), activation='relu',\n",
    "                        input_shape=(150, 150, 3)))\n",
    "model.add(layers.MaxPooling2D((2, 2)))\n",
    "model.add(layers.Flatten())\n",
    "model.add(layers.Dense(64, activation='relu'))\n",
    "model.add(layers.Dense(1, activation='sigmoid'))"
   ]
  },
  {
   "cell_type": "code",
   "execution_count": 7,
   "id": "29813791",
   "metadata": {
    "execution": {
     "iopub.execute_input": "2021-12-30T16:59:22.658468Z",
     "iopub.status.busy": "2021-12-30T16:59:22.655311Z",
     "iopub.status.idle": "2021-12-30T16:59:22.664620Z",
     "shell.execute_reply": "2021-12-30T16:59:22.664987Z",
     "shell.execute_reply.started": "2021-12-30T16:42:57.940949Z"
    },
    "papermill": {
     "duration": 0.041714,
     "end_time": "2021-12-30T16:59:22.665121",
     "exception": false,
     "start_time": "2021-12-30T16:59:22.623407",
     "status": "completed"
    },
    "tags": []
   },
   "outputs": [],
   "source": [
    "model.compile(loss='binary_crossentropy',\n",
    "             optimizer=optimizers.SGD(learning_rate=0.002, momentum=0.8),\n",
    "             metrics=['acc'])"
   ]
  },
  {
   "cell_type": "code",
   "execution_count": 8,
   "id": "51ff3b9c",
   "metadata": {
    "execution": {
     "iopub.execute_input": "2021-12-30T16:59:22.707930Z",
     "iopub.status.busy": "2021-12-30T16:59:22.707082Z",
     "iopub.status.idle": "2021-12-30T16:59:22.716780Z",
     "shell.execute_reply": "2021-12-30T16:59:22.717214Z",
     "shell.execute_reply.started": "2021-12-30T16:42:57.954840Z"
    },
    "papermill": {
     "duration": 0.034158,
     "end_time": "2021-12-30T16:59:22.717352",
     "exception": false,
     "start_time": "2021-12-30T16:59:22.683194",
     "status": "completed"
    },
    "tags": []
   },
   "outputs": [
    {
     "name": "stdout",
     "output_type": "stream",
     "text": [
      "Model: \"sequential\"\n",
      "_________________________________________________________________\n",
      "Layer (type)                 Output Shape              Param #   \n",
      "=================================================================\n",
      "conv2d (Conv2D)              (None, 148, 148, 32)      896       \n",
      "_________________________________________________________________\n",
      "max_pooling2d (MaxPooling2D) (None, 74, 74, 32)        0         \n",
      "_________________________________________________________________\n",
      "flatten (Flatten)            (None, 175232)            0         \n",
      "_________________________________________________________________\n",
      "dense (Dense)                (None, 64)                11214912  \n",
      "_________________________________________________________________\n",
      "dense_1 (Dense)              (None, 1)                 65        \n",
      "=================================================================\n",
      "Total params: 11,215,873\n",
      "Trainable params: 11,215,873\n",
      "Non-trainable params: 0\n",
      "_________________________________________________________________\n"
     ]
    }
   ],
   "source": [
    "model.compile(loss='binary_crossentropy',\n",
    "             optimizer=optimizers.SGD(learning_rate=0.002, momentum=0.8),\n",
    "             metrics=['acc'])\n",
    "model.summary()"
   ]
  },
  {
   "cell_type": "markdown",
   "id": "60cefa2f",
   "metadata": {
    "papermill": {
     "duration": 0.017499,
     "end_time": "2021-12-30T16:59:22.752533",
     "exception": false,
     "start_time": "2021-12-30T16:59:22.735034",
     "status": "completed"
    },
    "tags": []
   },
   "source": [
    "# Data Generators"
   ]
  },
  {
   "cell_type": "code",
   "execution_count": 9,
   "id": "d511f078",
   "metadata": {
    "execution": {
     "iopub.execute_input": "2021-12-30T16:59:22.792031Z",
     "iopub.status.busy": "2021-12-30T16:59:22.791354Z",
     "iopub.status.idle": "2021-12-30T16:59:22.794069Z",
     "shell.execute_reply": "2021-12-30T16:59:22.793649Z",
     "shell.execute_reply.started": "2021-12-30T16:42:57.969720Z"
    },
    "papermill": {
     "duration": 0.024084,
     "end_time": "2021-12-30T16:59:22.794178",
     "exception": false,
     "start_time": "2021-12-30T16:59:22.770094",
     "status": "completed"
    },
    "tags": []
   },
   "outputs": [],
   "source": [
    "train_datagen = ImageDataGenerator(rescale=1./255)\n",
    "val_datagen = ImageDataGenerator(rescale=1./255)"
   ]
  },
  {
   "cell_type": "code",
   "execution_count": 10,
   "id": "d20091a7",
   "metadata": {
    "execution": {
     "iopub.execute_input": "2021-12-30T16:59:22.834949Z",
     "iopub.status.busy": "2021-12-30T16:59:22.834040Z",
     "iopub.status.idle": "2021-12-30T16:59:23.367493Z",
     "shell.execute_reply": "2021-12-30T16:59:23.367875Z",
     "shell.execute_reply.started": "2021-12-30T16:42:57.978741Z"
    },
    "papermill": {
     "duration": 0.556307,
     "end_time": "2021-12-30T16:59:23.368036",
     "exception": false,
     "start_time": "2021-12-30T16:59:22.811729",
     "status": "completed"
    },
    "tags": []
   },
   "outputs": [
    {
     "name": "stdout",
     "output_type": "stream",
     "text": [
      "Found 20000 images belonging to 2 classes.\n"
     ]
    }
   ],
   "source": [
    "train_generator = train_datagen.flow_from_directory('/kaggle/working/dogs-vs-cats/train',\n",
    "                                                    target_size=(150, 150),\n",
    "                                                    batch_size=20,\n",
    "                                                    class_mode='binary')"
   ]
  },
  {
   "cell_type": "code",
   "execution_count": 11,
   "id": "e1b22ddb",
   "metadata": {
    "execution": {
     "iopub.execute_input": "2021-12-30T16:59:23.408036Z",
     "iopub.status.busy": "2021-12-30T16:59:23.407519Z",
     "iopub.status.idle": "2021-12-30T16:59:23.624413Z",
     "shell.execute_reply": "2021-12-30T16:59:23.623696Z",
     "shell.execute_reply.started": "2021-12-30T16:42:58.562097Z"
    },
    "papermill": {
     "duration": 0.238554,
     "end_time": "2021-12-30T16:59:23.624537",
     "exception": false,
     "start_time": "2021-12-30T16:59:23.385983",
     "status": "completed"
    },
    "tags": []
   },
   "outputs": [
    {
     "name": "stdout",
     "output_type": "stream",
     "text": [
      "Found 5000 images belonging to 2 classes.\n"
     ]
    }
   ],
   "source": [
    "validation_generator = val_datagen.flow_from_directory('/kaggle/working/dogs-vs-cats/validation',\n",
    "                                                        target_size=(150, 150),\n",
    "                                                        batch_size=20,\n",
    "                                                        class_mode='binary')"
   ]
  },
  {
   "cell_type": "markdown",
   "id": "22d9bbb0",
   "metadata": {
    "papermill": {
     "duration": 0.018396,
     "end_time": "2021-12-30T16:59:23.661160",
     "exception": false,
     "start_time": "2021-12-30T16:59:23.642764",
     "status": "completed"
    },
    "tags": []
   },
   "source": [
    "# Model fitting and Accuracy/Loss Evaluation"
   ]
  },
  {
   "cell_type": "code",
   "execution_count": 12,
   "id": "c4b45ae8",
   "metadata": {
    "execution": {
     "iopub.execute_input": "2021-12-30T16:59:23.701614Z",
     "iopub.status.busy": "2021-12-30T16:59:23.701010Z",
     "iopub.status.idle": "2021-12-30T17:01:14.302432Z",
     "shell.execute_reply": "2021-12-30T17:01:14.301939Z",
     "shell.execute_reply.started": "2021-12-30T16:42:58.789404Z"
    },
    "papermill": {
     "duration": 110.62319,
     "end_time": "2021-12-30T17:01:14.302586",
     "exception": false,
     "start_time": "2021-12-30T16:59:23.679396",
     "status": "completed"
    },
    "tags": []
   },
   "outputs": [
    {
     "name": "stderr",
     "output_type": "stream",
     "text": [
      "2021-12-30 16:59:23.834081: I tensorflow/compiler/mlir/mlir_graph_optimization_pass.cc:185] None of the MLIR Optimization Passes are enabled (registered 2)\n"
     ]
    },
    {
     "name": "stdout",
     "output_type": "stream",
     "text": [
      "Epoch 1/10\n"
     ]
    },
    {
     "name": "stderr",
     "output_type": "stream",
     "text": [
      "2021-12-30 16:59:25.002179: I tensorflow/stream_executor/cuda/cuda_dnn.cc:369] Loaded cuDNN version 8005\n"
     ]
    },
    {
     "name": "stdout",
     "output_type": "stream",
     "text": [
      "100/100 [==============================] - 15s 81ms/step - loss: 0.6984 - acc: 0.5035 - val_loss: 0.6932 - val_acc: 0.4790\n",
      "Epoch 2/10\n",
      "100/100 [==============================] - 8s 84ms/step - loss: 0.6924 - acc: 0.5200 - val_loss: 0.6914 - val_acc: 0.5750\n",
      "Epoch 3/10\n",
      "100/100 [==============================] - 8s 79ms/step - loss: 0.6893 - acc: 0.5440 - val_loss: 0.6874 - val_acc: 0.5310\n",
      "Epoch 4/10\n",
      "100/100 [==============================] - 8s 78ms/step - loss: 0.6850 - acc: 0.5550 - val_loss: 0.6820 - val_acc: 0.5710\n",
      "Epoch 5/10\n",
      "100/100 [==============================] - 8s 80ms/step - loss: 0.6837 - acc: 0.5455 - val_loss: 0.6777 - val_acc: 0.5660\n",
      "Epoch 6/10\n",
      "100/100 [==============================] - 8s 75ms/step - loss: 0.6798 - acc: 0.5600 - val_loss: 0.6801 - val_acc: 0.5820\n",
      "Epoch 7/10\n",
      "100/100 [==============================] - 8s 75ms/step - loss: 0.6777 - acc: 0.5670 - val_loss: 0.6757 - val_acc: 0.5590\n",
      "Epoch 8/10\n",
      "100/100 [==============================] - 8s 80ms/step - loss: 0.6667 - acc: 0.5930 - val_loss: 0.6694 - val_acc: 0.5850\n",
      "Epoch 9/10\n",
      "100/100 [==============================] - 8s 79ms/step - loss: 0.6679 - acc: 0.5890 - val_loss: 0.6662 - val_acc: 0.5940\n",
      "Epoch 10/10\n",
      "100/100 [==============================] - 8s 77ms/step - loss: 0.6551 - acc: 0.6065 - val_loss: 0.6710 - val_acc: 0.5730\n"
     ]
    }
   ],
   "source": [
    "history = model.fit(\n",
    "    train_generator,\n",
    "    steps_per_epoch=100,\n",
    "    epochs=10,\n",
    "    validation_data=validation_generator,\n",
    "    validation_steps=50# for fast validating, there will be some randomness in results.\n",
    ")"
   ]
  },
  {
   "cell_type": "code",
   "execution_count": 13,
   "id": "f0f1701b",
   "metadata": {
    "execution": {
     "iopub.execute_input": "2021-12-30T17:01:14.735740Z",
     "iopub.status.busy": "2021-12-30T17:01:14.730411Z",
     "iopub.status.idle": "2021-12-30T17:01:14.965008Z",
     "shell.execute_reply": "2021-12-30T17:01:14.965740Z",
     "shell.execute_reply.started": "2021-12-30T16:44:51.813988Z"
    },
    "papermill": {
     "duration": 0.450528,
     "end_time": "2021-12-30T17:01:14.965898",
     "exception": false,
     "start_time": "2021-12-30T17:01:14.515370",
     "status": "completed"
    },
    "tags": []
   },
   "outputs": [
    {
     "data": {
      "text/plain": [
       "<matplotlib.legend.Legend at 0x7f734067be10>"
      ]
     },
     "execution_count": 13,
     "metadata": {},
     "output_type": "execute_result"
    },
    {
     "data": {
      "image/png": "[encoded data removed]",
      "text/plain": [
       "<Figure size 432x288 with 1 Axes>"
      ]
     },
     "metadata": {
      "needs_background": "light"
     },
     "output_type": "display_data"
    }
   ],
   "source": [
    "plt.plot(history.history['acc'], label='train')\n",
    "plt.plot(history.history['val_acc'], label='val')\n",
    "plt.xticks(np.arange(10))\n",
    "plt.legend()"
   ]
  },
  {
   "cell_type": "code",
   "execution_count": 14,
   "id": "66ca1a4c",
   "metadata": {
    "execution": {
     "iopub.execute_input": "2021-12-30T17:01:15.404203Z",
     "iopub.status.busy": "2021-12-30T17:01:15.403466Z",
     "iopub.status.idle": "2021-12-30T17:01:15.406310Z",
     "shell.execute_reply": "2021-12-30T17:01:15.406880Z",
     "shell.execute_reply.started": "2021-12-30T16:44:52.054749Z"
    },
    "papermill": {
     "duration": 0.218503,
     "end_time": "2021-12-30T17:01:15.407058",
     "exception": false,
     "start_time": "2021-12-30T17:01:15.188555",
     "status": "completed"
    },
    "tags": []
   },
   "outputs": [
    {
     "name": "stdout",
     "output_type": "stream",
     "text": [
      "0.5575000047683716 0.012511441123616846\n"
     ]
    }
   ],
   "source": [
    "# median accuracy for training\n",
    "median = np.median(history.history['acc'])\n",
    "\n",
    "# standard deviation of training loss\n",
    "std = np.std(history.history['loss'])\n",
    "\n",
    "print (median, std)"
   ]
  },
  {
   "cell_type": "markdown",
   "id": "dc109a7a",
   "metadata": {
    "papermill": {
     "duration": 0.211577,
     "end_time": "2021-12-30T17:01:15.830111",
     "exception": false,
     "start_time": "2021-12-30T17:01:15.618534",
     "status": "completed"
    },
    "tags": []
   },
   "source": [
    "# Data Augmentation"
   ]
  },
  {
   "cell_type": "code",
   "execution_count": 15,
   "id": "fcf0c6e4",
   "metadata": {
    "execution": {
     "iopub.execute_input": "2021-12-30T17:01:16.319573Z",
     "iopub.status.busy": "2021-12-30T17:01:16.318690Z",
     "iopub.status.idle": "2021-12-30T17:01:16.323437Z",
     "shell.execute_reply": "2021-12-30T17:01:16.324062Z",
     "shell.execute_reply.started": "2021-12-30T16:44:52.063453Z"
    },
    "papermill": {
     "duration": 0.283083,
     "end_time": "2021-12-30T17:01:16.324268",
     "exception": false,
     "start_time": "2021-12-30T17:01:16.041185",
     "status": "completed"
    },
    "tags": []
   },
   "outputs": [],
   "source": [
    "train_datagen = ImageDataGenerator(\n",
    "    rescale=1./255,\n",
    "    rotation_range=40,\n",
    "    width_shift_range=0.2,\n",
    "    height_shift_range=0.2,\n",
    "    shear_range=0.2,\n",
    "    zoom_range=0.2,\n",
    "    horizontal_flip=True,)\n",
    "\n",
    "test_datagen = ImageDataGenerator(rescale=1./255)"
   ]
  },
  {
   "cell_type": "code",
   "execution_count": 16,
   "id": "743877e9",
   "metadata": {
    "execution": {
     "iopub.execute_input": "2021-12-30T17:01:16.930451Z",
     "iopub.status.busy": "2021-12-30T17:01:16.929671Z",
     "iopub.status.idle": "2021-12-30T17:01:17.488423Z",
     "shell.execute_reply": "2021-12-30T17:01:17.488848Z",
     "shell.execute_reply.started": "2021-12-30T16:44:52.071469Z"
    },
    "papermill": {
     "duration": 0.81772,
     "end_time": "2021-12-30T17:01:17.488993",
     "exception": false,
     "start_time": "2021-12-30T17:01:16.671273",
     "status": "completed"
    },
    "tags": []
   },
   "outputs": [
    {
     "name": "stdout",
     "output_type": "stream",
     "text": [
      "Found 20000 images belonging to 2 classes.\n"
     ]
    }
   ],
   "source": [
    "train_generator = train_datagen.flow_from_directory('/kaggle/working/dogs-vs-cats/train',\n",
    "                                                    target_size=(150, 150), \n",
    "                                                    batch_size=32, \n",
    "                                                    class_mode='binary')\n"
   ]
  },
  {
   "cell_type": "code",
   "execution_count": 17,
   "id": "0d63455c",
   "metadata": {
    "execution": {
     "iopub.execute_input": "2021-12-30T17:01:17.914864Z",
     "iopub.status.busy": "2021-12-30T17:01:17.914045Z",
     "iopub.status.idle": "2021-12-30T17:01:18.128007Z",
     "shell.execute_reply": "2021-12-30T17:01:18.128703Z",
     "shell.execute_reply.started": "2021-12-30T16:44:52.534986Z"
    },
    "papermill": {
     "duration": 0.429731,
     "end_time": "2021-12-30T17:01:18.128887",
     "exception": false,
     "start_time": "2021-12-30T17:01:17.699156",
     "status": "completed"
    },
    "tags": []
   },
   "outputs": [
    {
     "name": "stdout",
     "output_type": "stream",
     "text": [
      "Found 5000 images belonging to 2 classes.\n"
     ]
    }
   ],
   "source": [
    "validation_generator = test_datagen.flow_from_directory(\n",
    "    '/kaggle/working/dogs-vs-cats/validation',\n",
    "    target_size=(150, 150),\n",
    "    batch_size=32,\n",
    "    class_mode='binary')"
   ]
  },
  {
   "cell_type": "markdown",
   "id": "21ba57b4",
   "metadata": {
    "papermill": {
     "duration": 0.210954,
     "end_time": "2021-12-30T17:01:18.552324",
     "exception": false,
     "start_time": "2021-12-30T17:01:18.341370",
     "status": "completed"
    },
    "tags": []
   },
   "source": [
    "# Model Fitting (augmented) and Accuracy/Loss Evaluation"
   ]
  },
  {
   "cell_type": "code",
   "execution_count": 18,
   "id": "2c638a0d",
   "metadata": {
    "execution": {
     "iopub.execute_input": "2021-12-30T17:01:18.979125Z",
     "iopub.status.busy": "2021-12-30T17:01:18.977730Z",
     "iopub.status.idle": "2021-12-30T17:07:11.996237Z",
     "shell.execute_reply": "2021-12-30T17:07:11.995806Z",
     "shell.execute_reply.started": "2021-12-30T16:44:52.755316Z"
    },
    "papermill": {
     "duration": 353.23425,
     "end_time": "2021-12-30T17:07:11.996369",
     "exception": false,
     "start_time": "2021-12-30T17:01:18.762119",
     "status": "completed"
    },
    "tags": []
   },
   "outputs": [
    {
     "name": "stdout",
     "output_type": "stream",
     "text": [
      "Epoch 1/10\n",
      "100/100 [==============================] - 27s 265ms/step - loss: 0.6767 - acc: 0.5631 - val_loss: 0.6519 - val_acc: 0.6306\n",
      "Epoch 2/10\n",
      "100/100 [==============================] - 27s 263ms/step - loss: 0.6755 - acc: 0.5612 - val_loss: 0.6581 - val_acc: 0.6106\n",
      "Epoch 3/10\n",
      "100/100 [==============================] - 26s 263ms/step - loss: 0.6716 - acc: 0.5881 - val_loss: 0.6451 - val_acc: 0.6313\n",
      "Epoch 4/10\n",
      "100/100 [==============================] - 26s 264ms/step - loss: 0.6743 - acc: 0.5753 - val_loss: 0.6674 - val_acc: 0.5656\n",
      "Epoch 5/10\n",
      "100/100 [==============================] - 27s 268ms/step - loss: 0.6650 - acc: 0.5869 - val_loss: 0.6635 - val_acc: 0.5800\n",
      "Epoch 6/10\n",
      "100/100 [==============================] - 27s 267ms/step - loss: 0.6694 - acc: 0.5816 - val_loss: 0.6447 - val_acc: 0.6281\n",
      "Epoch 7/10\n",
      "100/100 [==============================] - 26s 258ms/step - loss: 0.6684 - acc: 0.5803 - val_loss: 0.6516 - val_acc: 0.6263\n",
      "Epoch 8/10\n",
      "100/100 [==============================] - 27s 269ms/step - loss: 0.6643 - acc: 0.5903 - val_loss: 0.6407 - val_acc: 0.6137\n",
      "Epoch 9/10\n",
      "100/100 [==============================] - 26s 260ms/step - loss: 0.6528 - acc: 0.6016 - val_loss: 0.6635 - val_acc: 0.5856\n",
      "Epoch 10/10\n",
      "100/100 [==============================] - 28s 276ms/step - loss: 0.6574 - acc: 0.6153 - val_loss: 0.6351 - val_acc: 0.6356\n"
     ]
    }
   ],
   "source": [
    "history = model.fit(\n",
    "    train_generator,\n",
    "    steps_per_epoch=100,\n",
    "    epochs=10,\n",
    "    validation_data=validation_generator,\n",
    "    validation_steps=50)"
   ]
  },
  {
   "cell_type": "code",
   "execution_count": 19,
   "id": "767111e6",
   "metadata": {
    "execution": {
     "iopub.execute_input": "2021-12-30T17:07:13.041531Z",
     "iopub.status.busy": "2021-12-30T17:07:13.024871Z",
     "iopub.status.idle": "2021-12-30T17:07:13.237580Z",
     "shell.execute_reply": "2021-12-30T17:07:13.237135Z",
     "shell.execute_reply.started": "2021-12-30T16:50:56.797278Z"
    },
    "papermill": {
     "duration": 0.703975,
     "end_time": "2021-12-30T17:07:13.237706",
     "exception": false,
     "start_time": "2021-12-30T17:07:12.533731",
     "status": "completed"
    },
    "tags": []
   },
   "outputs": [
    {
     "data": {
      "text/plain": [
       "<matplotlib.legend.Legend at 0x7f7340305f50>"
      ]
     },
     "execution_count": 19,
     "metadata": {},
     "output_type": "execute_result"
    },
    {
     "data": {
      "image/png": "[encoded data removed]",
      "text/plain": [
       "<Figure size 432x288 with 1 Axes>"
      ]
     },
     "metadata": {
      "needs_background": "light"
     },
     "output_type": "display_data"
    }
   ],
   "source": [
    "plt.plot(history.history['acc'], label='train')\n",
    "plt.plot(history.history['val_acc'], label='val')\n",
    "plt.xticks(np.arange(10))\n",
    "plt.legend()"
   ]
  },
  {
   "cell_type": "code",
   "execution_count": 20,
   "id": "f4dd6f73",
   "metadata": {
    "execution": {
     "iopub.execute_input": "2021-12-30T17:07:14.234168Z",
     "iopub.status.busy": "2021-12-30T17:07:14.233511Z",
     "iopub.status.idle": "2021-12-30T17:07:14.236197Z",
     "shell.execute_reply": "2021-12-30T17:07:14.236614Z",
     "shell.execute_reply.started": "2021-12-30T16:50:57.023228Z"
    },
    "papermill": {
     "duration": 0.504282,
     "end_time": "2021-12-30T17:07:14.236749",
     "exception": false,
     "start_time": "2021-12-30T17:07:13.732467",
     "status": "completed"
    },
    "tags": []
   },
   "outputs": [
    {
     "data": {
      "text/plain": [
       "0.6521604955196381"
      ]
     },
     "execution_count": 20,
     "metadata": {},
     "output_type": "execute_result"
    }
   ],
   "source": [
    "#mean of validation loss\n",
    "np.mean(history.history['val_loss'])"
   ]
  },
  {
   "cell_type": "code",
   "execution_count": 21,
   "id": "f48624bb",
   "metadata": {
    "execution": {
     "iopub.execute_input": "2021-12-30T17:07:15.249664Z",
     "iopub.status.busy": "2021-12-30T17:07:15.249023Z",
     "iopub.status.idle": "2021-12-30T17:07:15.251612Z",
     "shell.execute_reply": "2021-12-30T17:07:15.252017Z",
     "shell.execute_reply.started": "2021-12-30T16:50:57.032677Z"
    },
    "papermill": {
     "duration": 0.53475,
     "end_time": "2021-12-30T17:07:15.252147",
     "exception": false,
     "start_time": "2021-12-30T17:07:14.717397",
     "status": "completed"
    },
    "tags": []
   },
   "outputs": [
    {
     "data": {
      "text/plain": [
       "0.6178750038146973"
      ]
     },
     "execution_count": 21,
     "metadata": {},
     "output_type": "execute_result"
    }
   ],
   "source": [
    "# mean of validation accuracy for the last 5 epochs\n",
    "np.mean(history.history['val_acc'][5:10])"
   ]
  },
  {
   "cell_type": "code",
   "execution_count": 22,
   "id": "d418bea8",
   "metadata": {
    "execution": {
     "iopub.execute_input": "2021-12-30T17:07:16.262642Z",
     "iopub.status.busy": "2021-12-30T17:07:16.261781Z",
     "iopub.status.idle": "2021-12-30T17:07:29.507001Z",
     "shell.execute_reply": "2021-12-30T17:07:29.507412Z",
     "shell.execute_reply.started": "2021-12-30T16:50:57.042889Z"
    },
    "papermill": {
     "duration": 13.753835,
     "end_time": "2021-12-30T17:07:29.507589",
     "exception": false,
     "start_time": "2021-12-30T17:07:15.753754",
     "status": "completed"
    },
    "tags": []
   },
   "outputs": [
    {
     "name": "stdout",
     "output_type": "stream",
     "text": [
      "157/157 [==============================] - 13s 83ms/step - loss: 0.6378 - acc: 0.6240\n"
     ]
    },
    {
     "data": {
      "text/plain": [
       "[0.6377586722373962, 0.6240000128746033]"
      ]
     },
     "execution_count": 22,
     "metadata": {},
     "output_type": "execute_result"
    }
   ],
   "source": [
    "model.evaluate(validation_generator)"
   ]
  }
 ],
 "metadata": {
  "kernelspec": {
   "display_name": "Python 3",
   "language": "python",
   "name": "python3"
  },
  "language_info": {
   "codemirror_mode": {
    "name": "ipython",
    "version": 3
   },
   "file_extension": ".py",
   "mimetype": "text/x-python",
   "name": "python",
   "nbconvert_exporter": "python",
   "pygments_lexer": "ipython3",
   "version": "3.7.12"
  },
  "papermill": {
   "default_parameters": {},
   "duration": 519.834138,
   "end_time": "2021-12-30T17:07:33.561129",
   "environment_variables": {},
   "exception": null,
   "input_path": "__notebook__.ipynb",
   "output_path": "__notebook__.ipynb",
   "parameters": {},
   "start_time": "2021-12-30T16:58:53.726991",
   "version": "2.3.3"
  }
 },
 "nbformat": 4,
 "nbformat_minor": 5
}
